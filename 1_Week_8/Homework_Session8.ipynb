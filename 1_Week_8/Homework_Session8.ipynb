{
 "cells": [
  {
   "cell_type": "code",
   "execution_count": 26,
   "id": "4a42d281",
   "metadata": {},
   "outputs": [],
   "source": [
    "# Libraries :\n",
    "\n",
    "import numpy as np\n",
    "import matplotlib.pyplot as plt\n",
    "\n",
    "from tensorflow import keras\n",
    "\n",
    "from tensorflow.keras import layers\n",
    "from tensorflow.keras import models\n",
    "from tensorflow.keras import optimizers\n",
    "\n",
    "from tensorflow.keras.preprocessing.image import ImageDataGenerator\n",
    "from tensorflow.keras.preprocessing import image"
   ]
  },
  {
   "cell_type": "code",
   "execution_count": 27,
   "id": "68b477aa",
   "metadata": {},
   "outputs": [],
   "source": [
    "# Initializing path to dataset:\n",
    "\n",
    "train_dir = './data/train'\n",
    "test_dir = './data/test'"
   ]
  },
  {
   "cell_type": "code",
   "execution_count": 61,
   "id": "73137ce4",
   "metadata": {},
   "outputs": [
    {
     "name": "stdout",
     "output_type": "stream",
     "text": [
      "Model: \"sequential_5\"\n",
      "_________________________________________________________________\n",
      " Layer (type)                Output Shape              Param #   \n",
      "=================================================================\n",
      " conv2d_5 (Conv2D)           (None, 148, 148, 32)      896       \n",
      "                                                                 \n",
      " max_pooling2d_5 (MaxPoolin  (None, 74, 74, 32)        0         \n",
      " g2D)                                                            \n",
      "                                                                 \n",
      "=================================================================\n",
      "Total params: 896 (3.50 KB)\n",
      "Trainable params: 896 (3.50 KB)\n",
      "Non-trainable params: 0 (0.00 Byte)\n",
      "_________________________________________________________________\n"
     ]
    }
   ],
   "source": [
    "#def make_model(learning_rate=0.01, size_inner=100):\n",
    "              \n",
    "model = tf.keras.Sequential()\n",
    "model.add(tf.keras.layers.Conv2D(32, (3, 3), activation='relu', input_shape=(150,150,3)))\n",
    "model.add(tf.keras.layers.MaxPooling2D(pool_size=(2,2)))    \n",
    "\n",
    "\n",
    "# Homework question 2 :\n",
    "conv_parameters = model.summary()\n",
    "\n",
    "model.add(tf.keras.layers.Flatten()) # flatten\n",
    "model.add(layers.Dense(64, activation='relu')) # dense layer\n",
    "model.add(layers.Dense(1, activation='sigmoid')) # binary classification\n",
    "\n",
    "    \n",
    " #   return model"
   ]
  },
  {
   "cell_type": "code",
   "execution_count": 29,
   "id": "3175c9bd",
   "metadata": {},
   "outputs": [],
   "source": [
    "model.compile(\n",
    "    optimizer=keras.optimizers.SGD(learning_rate=0.002, momentum=0.8),\n",
    "    loss='binary_crossentropy', \n",
    "    metrics=['accuracy']\n",
    ")"
   ]
  },
  {
   "cell_type": "code",
   "execution_count": 30,
   "id": "b0a655e7",
   "metadata": {},
   "outputs": [
    {
     "name": "stdout",
     "output_type": "stream",
     "text": [
      "Found 3677 images belonging to 2 classes.\n"
     ]
    }
   ],
   "source": [
    "train_generator = ImageDataGenerator(rescale=1./255)\n",
    "\n",
    "train_ds = train_generator.flow_from_directory(\n",
    "    train_dir, \n",
    "    class_mode='binary',\n",
    "    target_size=(150, 150), \n",
    "    batch_size=20,\n",
    "    shuffle=True\n",
    ")"
   ]
  },
  {
   "cell_type": "code",
   "execution_count": 31,
   "id": "34f91c2e",
   "metadata": {},
   "outputs": [
    {
     "name": "stdout",
     "output_type": "stream",
     "text": [
      "Found 918 images belonging to 2 classes.\n"
     ]
    }
   ],
   "source": [
    "test_generator = ImageDataGenerator(rescale=1./255)\n",
    "\n",
    "test_ds = test_generator.flow_from_directory(\n",
    "    test_dir, \n",
    "    class_mode='binary',\n",
    "    target_size=(150, 150), \n",
    "    batch_size=20,\n",
    "    shuffle=True\n",
    ")"
   ]
  },
  {
   "cell_type": "code",
   "execution_count": 32,
   "id": "4e0409bb",
   "metadata": {
    "scrolled": false
   },
   "outputs": [
    {
     "name": "stdout",
     "output_type": "stream",
     "text": [
      "Epoch 1/10\n",
      "184/184 [==============================] - 9s 50ms/step - loss: 0.6713 - accuracy: 0.5785 - val_loss: 0.6155 - val_accuracy: 0.6645\n",
      "Epoch 2/10\n",
      "184/184 [==============================] - 9s 50ms/step - loss: 0.6121 - accuracy: 0.6595 - val_loss: 0.5713 - val_accuracy: 0.7288\n",
      "Epoch 3/10\n",
      "184/184 [==============================] - 9s 48ms/step - loss: 0.5619 - accuracy: 0.7193 - val_loss: 0.5446 - val_accuracy: 0.7505\n",
      "Epoch 4/10\n",
      "184/184 [==============================] - 9s 50ms/step - loss: 0.5276 - accuracy: 0.7490 - val_loss: 0.5496 - val_accuracy: 0.7211\n",
      "Epoch 5/10\n",
      "184/184 [==============================] - 9s 51ms/step - loss: 0.5016 - accuracy: 0.7710 - val_loss: 0.5133 - val_accuracy: 0.7549\n",
      "Epoch 6/10\n",
      "184/184 [==============================] - 9s 49ms/step - loss: 0.4757 - accuracy: 0.7849 - val_loss: 0.5218 - val_accuracy: 0.7451\n",
      "Epoch 7/10\n",
      "184/184 [==============================] - 9s 48ms/step - loss: 0.4539 - accuracy: 0.7952 - val_loss: 0.5289 - val_accuracy: 0.7473\n",
      "Epoch 8/10\n",
      "184/184 [==============================] - 9s 50ms/step - loss: 0.4377 - accuracy: 0.8077 - val_loss: 0.5265 - val_accuracy: 0.7462\n",
      "Epoch 9/10\n",
      "184/184 [==============================] - 10s 53ms/step - loss: 0.4117 - accuracy: 0.8232 - val_loss: 0.4921 - val_accuracy: 0.7789\n",
      "Epoch 10/10\n",
      "184/184 [==============================] - 11s 58ms/step - loss: 0.3687 - accuracy: 0.8556 - val_loss: 0.4823 - val_accuracy: 0.7712\n"
     ]
    }
   ],
   "source": [
    "history = model.fit(\n",
    "    train_ds,\n",
    "    epochs=10,\n",
    "    validation_data=test_ds\n",
    ")"
   ]
  },
  {
   "cell_type": "code",
   "execution_count": 33,
   "id": "52ded987",
   "metadata": {
    "scrolled": true
   },
   "outputs": [
    {
     "data": {
      "text/plain": [
       "{'loss': [0.6712556481361389,\n",
       "  0.6121231317520142,\n",
       "  0.5618565082550049,\n",
       "  0.5276119112968445,\n",
       "  0.5015802979469299,\n",
       "  0.47574809193611145,\n",
       "  0.4539201259613037,\n",
       "  0.4377165138721466,\n",
       "  0.41170233488082886,\n",
       "  0.3686634600162506],\n",
       " 'accuracy': [0.578460693359375,\n",
       "  0.6595050096511841,\n",
       "  0.7193363904953003,\n",
       "  0.7489801645278931,\n",
       "  0.7710089683532715,\n",
       "  0.7848789691925049,\n",
       "  0.7952134609222412,\n",
       "  0.8077237010002136,\n",
       "  0.8232254385948181,\n",
       "  0.8555887937545776],\n",
       " 'val_loss': [0.6155499219894409,\n",
       "  0.5713315010070801,\n",
       "  0.5446035861968994,\n",
       "  0.5495674014091492,\n",
       "  0.5132591724395752,\n",
       "  0.521822452545166,\n",
       "  0.5289428234100342,\n",
       "  0.5264796614646912,\n",
       "  0.4920509159564972,\n",
       "  0.4823167324066162],\n",
       " 'val_accuracy': [0.6644880175590515,\n",
       "  0.7287581562995911,\n",
       "  0.7505446672439575,\n",
       "  0.7211328744888306,\n",
       "  0.7549019455909729,\n",
       "  0.7450980544090271,\n",
       "  0.7472766637802124,\n",
       "  0.7461873888969421,\n",
       "  0.7788671255111694,\n",
       "  0.7712418437004089]}"
      ]
     },
     "execution_count": 33,
     "metadata": {},
     "output_type": "execute_result"
    }
   ],
   "source": [
    "history.history"
   ]
  },
  {
   "cell_type": "code",
   "execution_count": 34,
   "id": "55cb61f0",
   "metadata": {},
   "outputs": [
    {
     "data": {
      "text/plain": [
       "[0.578460693359375,\n",
       " 0.6595050096511841,\n",
       " 0.7193363904953003,\n",
       " 0.7489801645278931,\n",
       " 0.7710089683532715,\n",
       " 0.7848789691925049,\n",
       " 0.7952134609222412,\n",
       " 0.8077237010002136,\n",
       " 0.8232254385948181,\n",
       " 0.8555887937545776]"
      ]
     },
     "execution_count": 34,
     "metadata": {},
     "output_type": "execute_result"
    }
   ],
   "source": [
    "history.history['accuracy']"
   ]
  },
  {
   "cell_type": "code",
   "execution_count": 36,
   "id": "4a40a5ff",
   "metadata": {},
   "outputs": [],
   "source": [
    "train_accuracy = history.history['accuracy']\n",
    "train_loss = history.history['loss']\n",
    "\n",
    "val_accuracy = history.history['val_accuracy']\n",
    "val_loss = history.history['val_loss']"
   ]
  },
  {
   "cell_type": "code",
   "execution_count": 37,
   "id": "4ae2d7ef",
   "metadata": {},
   "outputs": [
    {
     "data": {
      "text/plain": [
       "0.7779439687728882"
      ]
     },
     "execution_count": 37,
     "metadata": {},
     "output_type": "execute_result"
    }
   ],
   "source": [
    "# Homework question 3 :\n",
    "\n",
    "train_accuracy_median = np.median(train_accuracy)\n",
    "train_accuracy_median"
   ]
  },
  {
   "cell_type": "code",
   "execution_count": 38,
   "id": "1330e765",
   "metadata": {},
   "outputs": [
    {
     "data": {
      "text/plain": [
       "0.08836207144396517"
      ]
     },
     "execution_count": 38,
     "metadata": {},
     "output_type": "execute_result"
    }
   ],
   "source": [
    "# Homework question 4 :\n",
    "\n",
    "train_loss_std = np.std(train_loss)\n",
    "train_loss_std"
   ]
  },
  {
   "cell_type": "code",
   "execution_count": null,
   "id": "4c591276",
   "metadata": {},
   "outputs": [],
   "source": [
    "### Augmentation :"
   ]
  },
  {
   "cell_type": "code",
   "execution_count": 41,
   "id": "571e3110",
   "metadata": {},
   "outputs": [
    {
     "name": "stdout",
     "output_type": "stream",
     "text": [
      "Found 3677 images belonging to 2 classes.\n",
      "Found 918 images belonging to 2 classes.\n"
     ]
    }
   ],
   "source": [
    "# train_generator = ImageDataGenerator(rescale=1./255)\n",
    "\n",
    "train_generator = ImageDataGenerator(\n",
    "    rescale=1./255,\n",
    "    \n",
    "    rotation_range=50,\n",
    "    width_shift_range=0.1,\n",
    "    height_shift_range=0.1,\n",
    "    zoom_range=0.1,\n",
    "    horizontal_flip=True,\n",
    "    fill_mode='nearest'\n",
    ")\n",
    "\n",
    "train_ds = train_generator.flow_from_directory(\n",
    "    train_dir, \n",
    "    class_mode='binary',\n",
    "    target_size=(150, 150), \n",
    "    batch_size=20,\n",
    "    shuffle=True\n",
    ")\n",
    "\n",
    "test_generator = ImageDataGenerator(rescale=1./255)\n",
    "\n",
    "test_ds = test_generator.flow_from_directory(\n",
    "    test_dir, \n",
    "    class_mode='binary',\n",
    "    target_size=(150, 150), \n",
    "    batch_size=20,\n",
    "    shuffle=True\n",
    ")"
   ]
  },
  {
   "cell_type": "code",
   "execution_count": 42,
   "id": "cdc1eb0e",
   "metadata": {},
   "outputs": [
    {
     "name": "stdout",
     "output_type": "stream",
     "text": [
      "Epoch 1/10\n",
      "184/184 [==============================] - 18s 96ms/step - loss: 0.4973 - accuracy: 0.7631 - val_loss: 0.4737 - val_accuracy: 0.7680\n",
      "Epoch 2/10\n",
      "184/184 [==============================] - 17s 95ms/step - loss: 0.4910 - accuracy: 0.7699 - val_loss: 0.4779 - val_accuracy: 0.7843\n",
      "Epoch 3/10\n",
      "184/184 [==============================] - 18s 98ms/step - loss: 0.4822 - accuracy: 0.7800 - val_loss: 0.4695 - val_accuracy: 0.7876\n",
      "Epoch 4/10\n",
      "184/184 [==============================] - 18s 98ms/step - loss: 0.4782 - accuracy: 0.7754 - val_loss: 0.4600 - val_accuracy: 0.7887\n",
      "Epoch 5/10\n",
      "184/184 [==============================] - 18s 99ms/step - loss: 0.4697 - accuracy: 0.7805 - val_loss: 0.4811 - val_accuracy: 0.7789\n",
      "Epoch 6/10\n",
      "184/184 [==============================] - 18s 99ms/step - loss: 0.4782 - accuracy: 0.7824 - val_loss: 0.4398 - val_accuracy: 0.8039\n",
      "Epoch 7/10\n",
      "184/184 [==============================] - 19s 105ms/step - loss: 0.4641 - accuracy: 0.7873 - val_loss: 0.4524 - val_accuracy: 0.7996\n",
      "Epoch 8/10\n",
      "184/184 [==============================] - 20s 108ms/step - loss: 0.4684 - accuracy: 0.7811 - val_loss: 0.5141 - val_accuracy: 0.7745\n",
      "Epoch 9/10\n",
      "184/184 [==============================] - 20s 107ms/step - loss: 0.4644 - accuracy: 0.7941 - val_loss: 0.4740 - val_accuracy: 0.7789\n",
      "Epoch 10/10\n",
      "184/184 [==============================] - 20s 108ms/step - loss: 0.4605 - accuracy: 0.7881 - val_loss: 0.4699 - val_accuracy: 0.7789\n"
     ]
    }
   ],
   "source": [
    "history_augmentation = model.fit(\n",
    "    train_ds,\n",
    "    epochs=10,\n",
    "    validation_data=test_ds\n",
    ")"
   ]
  },
  {
   "cell_type": "code",
   "execution_count": 45,
   "id": "efc28871",
   "metadata": {},
   "outputs": [],
   "source": [
    "train_accuracy_augm = history_augmentation.history['accuracy']\n",
    "train_loss_augm = history_augmentation.history['loss']\n",
    "\n",
    "test_accuracy_augm = history_augmentation.history['val_accuracy']\n",
    "test_loss_augm = history_augmentation.history['val_loss']"
   ]
  },
  {
   "cell_type": "code",
   "execution_count": 47,
   "id": "04b8b97b",
   "metadata": {},
   "outputs": [
    {
     "data": {
      "text/plain": [
       "0.47175581753253937"
      ]
     },
     "execution_count": 47,
     "metadata": {},
     "output_type": "execute_result"
    }
   ],
   "source": [
    "# Homework question 5 :\n",
    "\n",
    "test_loss_median = np.median(test_loss_augm)\n",
    "test_loss_median"
   ]
  },
  {
   "cell_type": "code",
   "execution_count": 54,
   "id": "952d5051",
   "metadata": {},
   "outputs": [
    {
     "data": {
      "text/plain": [
       "[0.7679738402366638,\n",
       " 0.7843137383460999,\n",
       " 0.7875816822052002,\n",
       " 0.7886710166931152,\n",
       " 0.7788671255111694,\n",
       " 0.8039215803146362,\n",
       " 0.7995642423629761,\n",
       " 0.7745097875595093,\n",
       " 0.7788671255111694,\n",
       " 0.7788671255111694]"
      ]
     },
     "execution_count": 54,
     "metadata": {},
     "output_type": "execute_result"
    }
   ],
   "source": [
    "history_augmentation.history['val_accuracy']"
   ]
  },
  {
   "cell_type": "code",
   "execution_count": 56,
   "id": "e62b9405",
   "metadata": {},
   "outputs": [
    {
     "data": {
      "text/plain": [
       "[0.8039215803146362,\n",
       " 0.7995642423629761,\n",
       " 0.7745097875595093,\n",
       " 0.7788671255111694,\n",
       " 0.7788671255111694]"
      ]
     },
     "execution_count": 56,
     "metadata": {},
     "output_type": "execute_result"
    }
   ],
   "source": [
    "history_augmentation.history['val_accuracy'][5:]"
   ]
  },
  {
   "cell_type": "code",
   "execution_count": 57,
   "id": "cdc43970",
   "metadata": {},
   "outputs": [
    {
     "data": {
      "text/plain": [
       "0.7788671255111694"
      ]
     },
     "execution_count": 57,
     "metadata": {},
     "output_type": "execute_result"
    }
   ],
   "source": [
    "# Homework question 6 :\n",
    "\n",
    "\n",
    "test_accuracy_median = np.median(history_augmentation.history['val_accuracy'][5:])\n",
    "test_accuracy_median"
   ]
  },
  {
   "cell_type": "code",
   "execution_count": null,
   "id": "0c025496",
   "metadata": {},
   "outputs": [],
   "source": []
  }
 ],
 "metadata": {
  "kernelspec": {
   "display_name": "Python 3 (ipykernel)",
   "language": "python",
   "name": "python3"
  },
  "language_info": {
   "codemirror_mode": {
    "name": "ipython",
    "version": 3
   },
   "file_extension": ".py",
   "mimetype": "text/x-python",
   "name": "python",
   "nbconvert_exporter": "python",
   "pygments_lexer": "ipython3",
   "version": "3.10.9"
  }
 },
 "nbformat": 4,
 "nbformat_minor": 5
}
