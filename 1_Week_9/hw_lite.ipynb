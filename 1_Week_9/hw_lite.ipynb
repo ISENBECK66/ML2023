{
 "cells": [
  {
   "cell_type": "code",
   "execution_count": 28,
   "id": "42f8bc82",
   "metadata": {},
   "outputs": [],
   "source": [
    "# import libreries\n",
    "\n",
    "import numpy as np\n",
    "import tensorflow.lite as tflite \n",
    "\n",
    "from io import BytesIO\n",
    "from urllib import request\n",
    "from PIL import Image"
   ]
  },
  {
   "cell_type": "code",
   "execution_count": 16,
   "id": "cc311718",
   "metadata": {},
   "outputs": [],
   "source": [
    "# define methods\n",
    "\n",
    "def download_image(url):\n",
    "    with request.urlopen(url) as resp:\n",
    "        buffer = resp.read()\n",
    "    stream = BytesIO(buffer)\n",
    "    img = Image.open(stream)\n",
    "    return img"
   ]
  },
  {
   "cell_type": "code",
   "execution_count": 17,
   "id": "2c13a8be",
   "metadata": {},
   "outputs": [],
   "source": [
    "def prepare_image(img, target_size):\n",
    "    if img.mode != 'RGB':\n",
    "        img = img.convert('RGB')\n",
    "    img = img.resize(target_size, Image.NEAREST)\n",
    "    return img"
   ]
  },
  {
   "cell_type": "code",
   "execution_count": 18,
   "id": "1edb2194",
   "metadata": {},
   "outputs": [],
   "source": [
    "def preprocess_input(x):\n",
    "    return x / 255"
   ]
  },
  {
   "cell_type": "code",
   "execution_count": 19,
   "id": "a957e562",
   "metadata": {},
   "outputs": [],
   "source": [
    "# download and resize image :\n",
    "\n",
    "img = download_image('https://habrastorage.org/webt/rt/d9/dh/rtd9dhsmhwrdezeldzoqgijdg8a.jpeg')\n",
    "img = prepare_image(img,(150,150))"
   ]
  },
  {
   "cell_type": "code",
   "execution_count": 20,
   "id": "399ca848",
   "metadata": {},
   "outputs": [],
   "source": [
    "x = np.array(img, dtype='float32')"
   ]
  },
  {
   "cell_type": "code",
   "execution_count": 21,
   "id": "493c053a",
   "metadata": {},
   "outputs": [],
   "source": [
    "# matrix building and preprocess :\n",
    "\n",
    "X = np.array([x])\n",
    "X = preprocess_input(X)"
   ]
  },
  {
   "cell_type": "code",
   "execution_count": 24,
   "id": "a0bdfe0e",
   "metadata": {},
   "outputs": [
    {
     "name": "stderr",
     "output_type": "stream",
     "text": [
      "INFO: Created TensorFlow Lite XNNPACK delegate for CPU.\n"
     ]
    }
   ],
   "source": [
    "# loading model :\n",
    "\n",
    "interpreter = tflite.Interpreter(model_path='bees-wasps.tflite')\n",
    "\n",
    "# set the tensor weights :\n",
    "\n",
    "interpreter.allocate_tensors()  "
   ]
  },
  {
   "cell_type": "code",
   "execution_count": 25,
   "id": "0c2a558e",
   "metadata": {},
   "outputs": [],
   "source": [
    "# set indexes of the model :\n",
    "\n",
    "input_index = interpreter.get_input_details()[0]['index']  # get INPUT index \n",
    "output_index = interpreter.get_output_details()[0]['index'] # get OUTPUT index "
   ]
  },
  {
   "cell_type": "code",
   "execution_count": 30,
   "id": "e4c68230",
   "metadata": {},
   "outputs": [
    {
     "data": {
      "text/plain": [
       "array([[0.65898407]], dtype=float32)"
      ]
     },
     "execution_count": 30,
     "metadata": {},
     "output_type": "execute_result"
    }
   ],
   "source": [
    "# use the model on the Matrix (input) and get predictions (output) :\n",
    "\n",
    "interpreter.set_tensor(input_index, X)\n",
    "interpreter.invoke()\n",
    "preds = interpreter.get_tensor(output_index) \n",
    "preds"
   ]
  },
  {
   "cell_type": "code",
   "execution_count": 31,
   "id": "f8c9fc49",
   "metadata": {},
   "outputs": [
    {
     "data": {
      "text/plain": [
       "{'Wasp_probability': 0.65898407}"
      ]
     },
     "execution_count": 31,
     "metadata": {},
     "output_type": "execute_result"
    }
   ],
   "source": [
    "# elaborate the results :\n",
    "\n",
    "wasp_probability = ['Wasp_probability']\n",
    "dict(zip(wasp_probability, preds[0]))"
   ]
  }
 ],
 "metadata": {
  "kernelspec": {
   "display_name": "Python 3 (ipykernel)",
   "language": "python",
   "name": "python3"
  },
  "language_info": {
   "codemirror_mode": {
    "name": "ipython",
    "version": 3
   },
   "file_extension": ".py",
   "mimetype": "text/x-python",
   "name": "python",
   "nbconvert_exporter": "python",
   "pygments_lexer": "ipython3",
   "version": "3.10.9"
  }
 },
 "nbformat": 4,
 "nbformat_minor": 5
}
